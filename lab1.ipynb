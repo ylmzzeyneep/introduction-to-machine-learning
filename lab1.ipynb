{
 "cells": [
  {
   "cell_type": "markdown",
   "id": "3c98f882",
   "metadata": {},
   "source": [
    "**MACHINE LEARNING LAB1**"
   ]
  },
  {
   "cell_type": "code",
   "execution_count": 19,
   "id": "ae9d43bc",
   "metadata": {},
   "outputs": [
    {
     "name": "stdout",
     "output_type": "stream",
     "text": [
      "10\n",
      "20\n",
      "pazartesi\n"
     ]
    },
    {
     "data": {
      "text/plain": [
       "str"
      ]
     },
     "execution_count": 19,
     "metadata": {},
     "output_type": "execute_result"
    }
   ],
   "source": [
    "a = 10\n",
    "var1 = 20\n",
    "gun = \"pazartesi\"\n",
    "\n",
    "print(a)\n",
    "print(var1)\n",
    "print(gun)\n",
    "\n",
    "type(gun)"
   ]
  },
  {
   "cell_type": "code",
   "execution_count": 20,
   "id": "163921e8",
   "metadata": {},
   "outputs": [
    {
     "name": "stdout",
     "output_type": "stream",
     "text": [
      "[1, 2, 3]\n"
     ]
    }
   ],
   "source": [
    "#Define a list\n",
    "var1 = 1\n",
    "var2 = 2\n",
    "var3 = 3\n",
    "\n",
    "list_int = [1, 2, 3]\n",
    "print(list_int)"
   ]
  },
  {
   "cell_type": "code",
   "execution_count": 6,
   "id": "8f636aea",
   "metadata": {},
   "outputs": [
    {
     "data": {
      "text/plain": [
       "1"
      ]
     },
     "execution_count": 6,
     "metadata": {},
     "output_type": "execute_result"
    }
   ],
   "source": [
    "#First element of the list\n",
    "list_int[0]"
   ]
  },
  {
   "cell_type": "code",
   "execution_count": 7,
   "id": "e016032d",
   "metadata": {},
   "outputs": [
    {
     "data": {
      "text/plain": [
       "3"
      ]
     },
     "execution_count": 7,
     "metadata": {},
     "output_type": "execute_result"
    }
   ],
   "source": [
    "#Last element of the list\n",
    "list_int[-1]"
   ]
  },
  {
   "cell_type": "code",
   "execution_count": 8,
   "id": "3dad3938",
   "metadata": {},
   "outputs": [
    {
     "data": {
      "text/plain": [
       "[1, 2, 3]"
      ]
     },
     "execution_count": 8,
     "metadata": {},
     "output_type": "execute_result"
    }
   ],
   "source": [
    "#Variables in the range of list\n",
    "list_int[0:3]"
   ]
  },
  {
   "cell_type": "code",
   "execution_count": 9,
   "id": "d5b98545",
   "metadata": {},
   "outputs": [
    {
     "name": "stdout",
     "output_type": "stream",
     "text": [
      "[1, 2, 3, 4]\n"
     ]
    }
   ],
   "source": [
    "#To add variables to the list\n",
    "list_int.append(4)\n",
    "print(list_int)"
   ]
  },
  {
   "cell_type": "code",
   "execution_count": 10,
   "id": "c1549916",
   "metadata": {},
   "outputs": [
    {
     "name": "stdout",
     "output_type": "stream",
     "text": [
      "[1, 2, 4]\n"
     ]
    }
   ],
   "source": [
    "#To delete variables to the list \n",
    "list_int.remove(3)\n",
    "print(list_int)"
   ]
  },
  {
   "cell_type": "code",
   "execution_count": 11,
   "id": "f0114bf9",
   "metadata": {},
   "outputs": [
    {
     "name": "stdout",
     "output_type": "stream",
     "text": [
      "[4, 2, 1]\n"
     ]
    }
   ],
   "source": [
    "#To print the list in reverse\n",
    "list_int.reverse()\n",
    "print(list_int)"
   ]
  },
  {
   "cell_type": "code",
   "execution_count": 12,
   "id": "fbe9da33",
   "metadata": {},
   "outputs": [
    {
     "name": "stdout",
     "output_type": "stream",
     "text": [
      "[1, 2, 4]\n"
     ]
    }
   ],
   "source": [
    "#To sort the list from smallest to largest\n",
    "list_int.sort()\n",
    "print(list_int)"
   ]
  },
  {
   "cell_type": "code",
   "execution_count": 21,
   "id": "201b3e00",
   "metadata": {},
   "outputs": [
    {
     "name": "stdout",
     "output_type": "stream",
     "text": [
      "3\n"
     ]
    }
   ],
   "source": [
    "#To find maximum element with for loop\n",
    "x = 0\n",
    "for each in list_int:\n",
    "    if(each>x):\n",
    "        x = each\n",
    "    else:\n",
    "        continue\n",
    "print(x)"
   ]
  },
  {
   "cell_type": "code",
   "execution_count": 17,
   "id": "802d4600",
   "metadata": {},
   "outputs": [
    {
     "name": "stdout",
     "output_type": "stream",
     "text": [
      "0\n",
      "1\n",
      "2\n",
      "3\n",
      "4\n"
     ]
    }
   ],
   "source": [
    "#To print from 0 to 5 with while loop(5 is not included)\n",
    "i = 0\n",
    "while(i<5):\n",
    "    print(i)\n",
    "    i = i+1"
   ]
  },
  {
   "cell_type": "code",
   "execution_count": 16,
   "id": "3eb54628",
   "metadata": {},
   "outputs": [
    {
     "data": {
      "text/plain": [
       "12.56"
      ]
     },
     "execution_count": 16,
     "metadata": {},
     "output_type": "execute_result"
    }
   ],
   "source": [
    "#To use function\n",
    "def cember_cevre(r, pi = 3.14):  \n",
    "    result = 2*pi*r\n",
    "    return result\n",
    "\n",
    "cember_cevre(2) "
   ]
  },
  {
   "cell_type": "code",
   "execution_count": 22,
   "id": "81325857",
   "metadata": {},
   "outputs": [
    {
     "data": {
      "text/plain": [
       "25"
      ]
     },
     "execution_count": 22,
     "metadata": {},
     "output_type": "execute_result"
    }
   ],
   "source": [
    "#Another example for function\n",
    "def hesapla(x):\n",
    "    result = x*x\n",
    "    return result\n",
    "\n",
    "hesapla(5)"
   ]
  },
  {
   "cell_type": "code",
   "execution_count": 23,
   "id": "4ed6f18c",
   "metadata": {},
   "outputs": [
    {
     "name": "stdout",
     "output_type": "stream",
     "text": [
      "25\n"
     ]
    }
   ],
   "source": [
    "#Shorter way to use function is lambda \n",
    "result = lambda x:x*x\n",
    "\n",
    "print(result(5))"
   ]
  },
  {
   "cell_type": "code",
   "execution_count": 30,
   "id": "563f883a",
   "metadata": {},
   "outputs": [
    {
     "name": "stdout",
     "output_type": "stream",
     "text": [
      "{'zeynep': 22, 'anil': 20, 'kerem': 7}\n"
     ]
    }
   ],
   "source": [
    "#To use dictionary\n",
    "dictionary = {\"zeynep\":22, \"anil\":20, \"kerem\":7} \n",
    "print(dictionary)"
   ]
  },
  {
   "cell_type": "code",
   "execution_count": 25,
   "id": "052eb59e",
   "metadata": {},
   "outputs": [
    {
     "data": {
      "text/plain": [
       "dict"
      ]
     },
     "execution_count": 25,
     "metadata": {},
     "output_type": "execute_result"
    }
   ],
   "source": [
    "type(dictionary)"
   ]
  },
  {
   "cell_type": "code",
   "execution_count": 26,
   "id": "c51162c8",
   "metadata": {},
   "outputs": [
    {
     "data": {
      "text/plain": [
       "dict_keys(['zeynep', 'anil', 'kerem'])"
      ]
     },
     "execution_count": 26,
     "metadata": {},
     "output_type": "execute_result"
    }
   ],
   "source": [
    "dictionary.keys() "
   ]
  },
  {
   "cell_type": "code",
   "execution_count": 27,
   "id": "9c65f6ec",
   "metadata": {},
   "outputs": [
    {
     "data": {
      "text/plain": [
       "dict_values([22, 20, 7])"
      ]
     },
     "execution_count": 27,
     "metadata": {},
     "output_type": "execute_result"
    }
   ],
   "source": [
    "dictionary.values()"
   ]
  },
  {
   "cell_type": "code",
   "execution_count": 29,
   "id": "a252a647",
   "metadata": {},
   "outputs": [
    {
     "name": "stdout",
     "output_type": "stream",
     "text": [
      "yes\n"
     ]
    }
   ],
   "source": [
    "#To find out if the keys is in the dictionary\n",
    "value = dictionary.keys()\n",
    "\n",
    "if \"anil\" in value:\n",
    "    print(\"yes\")\n",
    "else:\n",
    "    print(\"no\")"
   ]
  },
  {
   "cell_type": "code",
   "execution_count": null,
   "id": "173f7b0f",
   "metadata": {},
   "outputs": [],
   "source": []
  }
 ],
 "metadata": {
  "kernelspec": {
   "display_name": "Python 3 (ipykernel)",
   "language": "python",
   "name": "python3"
  },
  "language_info": {
   "codemirror_mode": {
    "name": "ipython",
    "version": 3
   },
   "file_extension": ".py",
   "mimetype": "text/x-python",
   "name": "python",
   "nbconvert_exporter": "python",
   "pygments_lexer": "ipython3",
   "version": "3.11.5"
  }
 },
 "nbformat": 4,
 "nbformat_minor": 5
}
